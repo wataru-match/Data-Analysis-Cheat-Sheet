{
 "cells": [
  {
   "cell_type": "code",
   "execution_count": 1,
   "metadata": {},
   "outputs": [],
   "source": [
    "import pandas as pd\n",
    "import numpy as np"
   ]
  },
  {
   "cell_type": "markdown",
   "metadata": {},
   "source": [
    "### データの読み込み"
   ]
  },
  {
   "cell_type": "code",
   "execution_count": 2,
   "metadata": {},
   "outputs": [],
   "source": [
    "df = pd.read_csv('data.csv')"
   ]
  },
  {
   "cell_type": "code",
   "execution_count": 3,
   "metadata": {
    "scrolled": true
   },
   "outputs": [
    {
     "data": {
      "text/html": [
       "<div>\n",
       "<style scoped>\n",
       "    .dataframe tbody tr th:only-of-type {\n",
       "        vertical-align: middle;\n",
       "    }\n",
       "\n",
       "    .dataframe tbody tr th {\n",
       "        vertical-align: top;\n",
       "    }\n",
       "\n",
       "    .dataframe thead th {\n",
       "        text-align: right;\n",
       "    }\n",
       "</style>\n",
       "<table border=\"1\" class=\"dataframe\">\n",
       "  <thead>\n",
       "    <tr style=\"text-align: right;\">\n",
       "      <th></th>\n",
       "      <th>Name</th>\n",
       "      <th>Sex</th>\n",
       "      <th>Age</th>\n",
       "      <th>Height</th>\n",
       "      <th>Weight</th>\n",
       "      <th>Income</th>\n",
       "      <th>Register</th>\n",
       "      <th>Login</th>\n",
       "    </tr>\n",
       "  </thead>\n",
       "  <tbody>\n",
       "    <tr>\n",
       "      <th>0</th>\n",
       "      <td>A</td>\n",
       "      <td>M</td>\n",
       "      <td>57</td>\n",
       "      <td>153.1</td>\n",
       "      <td>45.7</td>\n",
       "      <td>350</td>\n",
       "      <td>2011/06/11 19:52</td>\n",
       "      <td>2016/06/07 19:33</td>\n",
       "    </tr>\n",
       "    <tr>\n",
       "      <th>1</th>\n",
       "      <td>B</td>\n",
       "      <td>M</td>\n",
       "      <td>28</td>\n",
       "      <td>158.1</td>\n",
       "      <td>46.1</td>\n",
       "      <td>570</td>\n",
       "      <td>2009/07/05 11:09</td>\n",
       "      <td>2018/07/08 03:30</td>\n",
       "    </tr>\n",
       "    <tr>\n",
       "      <th>2</th>\n",
       "      <td>C</td>\n",
       "      <td>F</td>\n",
       "      <td>46</td>\n",
       "      <td>158.8</td>\n",
       "      <td>NaN</td>\n",
       "      <td>2130</td>\n",
       "      <td>2008/05/07 21:10</td>\n",
       "      <td>2017/06/04 13:07</td>\n",
       "    </tr>\n",
       "    <tr>\n",
       "      <th>3</th>\n",
       "      <td>D</td>\n",
       "      <td>M</td>\n",
       "      <td>55</td>\n",
       "      <td>162.3</td>\n",
       "      <td>62.8</td>\n",
       "      <td>670</td>\n",
       "      <td>1999/08/12 03:05</td>\n",
       "      <td>2017/08/12 16:07</td>\n",
       "    </tr>\n",
       "    <tr>\n",
       "      <th>4</th>\n",
       "      <td>E</td>\n",
       "      <td>F</td>\n",
       "      <td>43</td>\n",
       "      <td>162.7</td>\n",
       "      <td>65.8</td>\n",
       "      <td>400</td>\n",
       "      <td>1997/07/12 01:59</td>\n",
       "      <td>2017/07/10 22:48</td>\n",
       "    </tr>\n",
       "    <tr>\n",
       "      <th>5</th>\n",
       "      <td>F</td>\n",
       "      <td>F</td>\n",
       "      <td>40</td>\n",
       "      <td>160.1</td>\n",
       "      <td>45.6</td>\n",
       "      <td>900</td>\n",
       "      <td>2013/07/03 22:32</td>\n",
       "      <td>2018/12/04 14:37</td>\n",
       "    </tr>\n",
       "    <tr>\n",
       "      <th>6</th>\n",
       "      <td>G</td>\n",
       "      <td>M</td>\n",
       "      <td>49</td>\n",
       "      <td>166.5</td>\n",
       "      <td>72.9</td>\n",
       "      <td>32500</td>\n",
       "      <td>2001/07/30 01:35</td>\n",
       "      <td>2016/02/05 06:32</td>\n",
       "    </tr>\n",
       "    <tr>\n",
       "      <th>7</th>\n",
       "      <td>H</td>\n",
       "      <td>F</td>\n",
       "      <td>49</td>\n",
       "      <td>151.7</td>\n",
       "      <td>42.0</td>\n",
       "      <td>1200</td>\n",
       "      <td>2001/12/07 08:55</td>\n",
       "      <td>2017/12/02 15:15</td>\n",
       "    </tr>\n",
       "    <tr>\n",
       "      <th>8</th>\n",
       "      <td>I</td>\n",
       "      <td>M</td>\n",
       "      <td>28</td>\n",
       "      <td>166.0</td>\n",
       "      <td>66.2</td>\n",
       "      <td>720</td>\n",
       "      <td>1994/06/14 23:43</td>\n",
       "      <td>2016/05/13 17:59</td>\n",
       "    </tr>\n",
       "    <tr>\n",
       "      <th>9</th>\n",
       "      <td>J</td>\n",
       "      <td>F</td>\n",
       "      <td>36</td>\n",
       "      <td>153.4</td>\n",
       "      <td>NaN</td>\n",
       "      <td>330</td>\n",
       "      <td>1997/03/16 21:04</td>\n",
       "      <td>2018/11/26 05:32</td>\n",
       "    </tr>\n",
       "  </tbody>\n",
       "</table>\n",
       "</div>"
      ],
      "text/plain": [
       "  Name Sex  Age  Height  Weight  Income          Register             Login\n",
       "0    A   M   57   153.1    45.7     350  2011/06/11 19:52  2016/06/07 19:33\n",
       "1    B   M   28   158.1    46.1     570  2009/07/05 11:09  2018/07/08 03:30\n",
       "2    C   F   46   158.8     NaN    2130  2008/05/07 21:10  2017/06/04 13:07\n",
       "3    D   M   55   162.3    62.8     670  1999/08/12 03:05  2017/08/12 16:07\n",
       "4    E   F   43   162.7    65.8     400  1997/07/12 01:59  2017/07/10 22:48\n",
       "5    F   F   40   160.1    45.6     900  2013/07/03 22:32  2018/12/04 14:37\n",
       "6    G   M   49   166.5    72.9   32500  2001/07/30 01:35  2016/02/05 06:32\n",
       "7    H   F   49   151.7    42.0    1200  2001/12/07 08:55  2017/12/02 15:15\n",
       "8    I   M   28   166.0    66.2     720  1994/06/14 23:43  2016/05/13 17:59\n",
       "9    J   F   36   153.4     NaN     330  1997/03/16 21:04  2018/11/26 05:32"
      ]
     },
     "execution_count": 3,
     "metadata": {},
     "output_type": "execute_result"
    }
   ],
   "source": [
    "df"
   ]
  },
  {
   "cell_type": "markdown",
   "metadata": {},
   "source": [
    "### データ情報確認"
   ]
  },
  {
   "cell_type": "markdown",
   "metadata": {},
   "source": [
    "データの列名"
   ]
  },
  {
   "cell_type": "code",
   "execution_count": 4,
   "metadata": {},
   "outputs": [
    {
     "data": {
      "text/plain": [
       "Index(['Name', 'Sex', 'Age', 'Height', 'Weight', 'Income', 'Register',\n",
       "       'Login'],\n",
       "      dtype='object')"
      ]
     },
     "execution_count": 4,
     "metadata": {},
     "output_type": "execute_result"
    }
   ],
   "source": [
    "df.columns"
   ]
  },
  {
   "cell_type": "markdown",
   "metadata": {},
   "source": [
    "データ各列の型"
   ]
  },
  {
   "cell_type": "code",
   "execution_count": 5,
   "metadata": {},
   "outputs": [
    {
     "data": {
      "text/plain": [
       "Name         object\n",
       "Sex          object\n",
       "Age           int64\n",
       "Height      float64\n",
       "Weight      float64\n",
       "Income        int64\n",
       "Register     object\n",
       "Login        object\n",
       "dtype: object"
      ]
     },
     "execution_count": 5,
     "metadata": {},
     "output_type": "execute_result"
    }
   ],
   "source": [
    "df.dtypes"
   ]
  },
  {
   "cell_type": "markdown",
   "metadata": {},
   "source": [
    "データの行数・列数"
   ]
  },
  {
   "cell_type": "code",
   "execution_count": 6,
   "metadata": {},
   "outputs": [
    {
     "data": {
      "text/plain": [
       "(10, 8)"
      ]
     },
     "execution_count": 6,
     "metadata": {},
     "output_type": "execute_result"
    }
   ],
   "source": [
    "df.shape"
   ]
  },
  {
   "cell_type": "markdown",
   "metadata": {},
   "source": [
    "データの要素数,平均値,標準偏差,最小値,四分位数,最大値を取得"
   ]
  },
  {
   "cell_type": "code",
   "execution_count": 7,
   "metadata": {},
   "outputs": [
    {
     "name": "stdout",
     "output_type": "stream",
     "text": [
      "<class 'pandas.core.frame.DataFrame'>\n",
      "RangeIndex: 10 entries, 0 to 9\n",
      "Data columns (total 8 columns):\n",
      "Name        10 non-null object\n",
      "Sex         10 non-null object\n",
      "Age         10 non-null int64\n",
      "Height      10 non-null float64\n",
      "Weight      8 non-null float64\n",
      "Income      10 non-null int64\n",
      "Register    10 non-null object\n",
      "Login       10 non-null object\n",
      "dtypes: float64(2), int64(2), object(4)\n",
      "memory usage: 720.0+ bytes\n"
     ]
    }
   ],
   "source": [
    "df.info()"
   ]
  },
  {
   "cell_type": "markdown",
   "metadata": {},
   "source": [
    "データの統計情報"
   ]
  },
  {
   "cell_type": "code",
   "execution_count": 8,
   "metadata": {},
   "outputs": [
    {
     "data": {
      "text/html": [
       "<div>\n",
       "<style scoped>\n",
       "    .dataframe tbody tr th:only-of-type {\n",
       "        vertical-align: middle;\n",
       "    }\n",
       "\n",
       "    .dataframe tbody tr th {\n",
       "        vertical-align: top;\n",
       "    }\n",
       "\n",
       "    .dataframe thead th {\n",
       "        text-align: right;\n",
       "    }\n",
       "</style>\n",
       "<table border=\"1\" class=\"dataframe\">\n",
       "  <thead>\n",
       "    <tr style=\"text-align: right;\">\n",
       "      <th></th>\n",
       "      <th>Age</th>\n",
       "      <th>Height</th>\n",
       "      <th>Weight</th>\n",
       "      <th>Income</th>\n",
       "    </tr>\n",
       "  </thead>\n",
       "  <tbody>\n",
       "    <tr>\n",
       "      <th>count</th>\n",
       "      <td>10.000000</td>\n",
       "      <td>10.000000</td>\n",
       "      <td>8.000000</td>\n",
       "      <td>10.000000</td>\n",
       "    </tr>\n",
       "    <tr>\n",
       "      <th>mean</th>\n",
       "      <td>43.100000</td>\n",
       "      <td>159.270000</td>\n",
       "      <td>55.887500</td>\n",
       "      <td>3977.000000</td>\n",
       "    </tr>\n",
       "    <tr>\n",
       "      <th>std</th>\n",
       "      <td>10.159287</td>\n",
       "      <td>5.277005</td>\n",
       "      <td>12.189508</td>\n",
       "      <td>10036.351761</td>\n",
       "    </tr>\n",
       "    <tr>\n",
       "      <th>min</th>\n",
       "      <td>28.000000</td>\n",
       "      <td>151.700000</td>\n",
       "      <td>42.000000</td>\n",
       "      <td>330.000000</td>\n",
       "    </tr>\n",
       "    <tr>\n",
       "      <th>25%</th>\n",
       "      <td>37.000000</td>\n",
       "      <td>154.575000</td>\n",
       "      <td>45.675000</td>\n",
       "      <td>442.500000</td>\n",
       "    </tr>\n",
       "    <tr>\n",
       "      <th>50%</th>\n",
       "      <td>44.500000</td>\n",
       "      <td>159.450000</td>\n",
       "      <td>54.450000</td>\n",
       "      <td>695.000000</td>\n",
       "    </tr>\n",
       "    <tr>\n",
       "      <th>75%</th>\n",
       "      <td>49.000000</td>\n",
       "      <td>162.600000</td>\n",
       "      <td>65.900000</td>\n",
       "      <td>1125.000000</td>\n",
       "    </tr>\n",
       "    <tr>\n",
       "      <th>max</th>\n",
       "      <td>57.000000</td>\n",
       "      <td>166.500000</td>\n",
       "      <td>72.900000</td>\n",
       "      <td>32500.000000</td>\n",
       "    </tr>\n",
       "  </tbody>\n",
       "</table>\n",
       "</div>"
      ],
      "text/plain": [
       "             Age      Height     Weight        Income\n",
       "count  10.000000   10.000000   8.000000     10.000000\n",
       "mean   43.100000  159.270000  55.887500   3977.000000\n",
       "std    10.159287    5.277005  12.189508  10036.351761\n",
       "min    28.000000  151.700000  42.000000    330.000000\n",
       "25%    37.000000  154.575000  45.675000    442.500000\n",
       "50%    44.500000  159.450000  54.450000    695.000000\n",
       "75%    49.000000  162.600000  65.900000   1125.000000\n",
       "max    57.000000  166.500000  72.900000  32500.000000"
      ]
     },
     "execution_count": 8,
     "metadata": {},
     "output_type": "execute_result"
    }
   ],
   "source": [
    "df.describe()"
   ]
  },
  {
   "cell_type": "markdown",
   "metadata": {},
   "source": [
    "### 欠損値処理"
   ]
  },
  {
   "cell_type": "markdown",
   "metadata": {},
   "source": [
    "欠損値の要素数を確認"
   ]
  },
  {
   "cell_type": "code",
   "execution_count": 9,
   "metadata": {},
   "outputs": [
    {
     "data": {
      "text/plain": [
       "Name        0\n",
       "Sex         0\n",
       "Age         0\n",
       "Height      0\n",
       "Weight      2\n",
       "Income      0\n",
       "Register    0\n",
       "Login       0\n",
       "dtype: int64"
      ]
     },
     "execution_count": 9,
     "metadata": {},
     "output_type": "execute_result"
    }
   ],
   "source": [
    "df.isnull().sum()"
   ]
  },
  {
   "cell_type": "markdown",
   "metadata": {},
   "source": [
    "欠損値を全て0で補完する"
   ]
  },
  {
   "cell_type": "code",
   "execution_count": 10,
   "metadata": {},
   "outputs": [
    {
     "data": {
      "text/html": [
       "<div>\n",
       "<style scoped>\n",
       "    .dataframe tbody tr th:only-of-type {\n",
       "        vertical-align: middle;\n",
       "    }\n",
       "\n",
       "    .dataframe tbody tr th {\n",
       "        vertical-align: top;\n",
       "    }\n",
       "\n",
       "    .dataframe thead th {\n",
       "        text-align: right;\n",
       "    }\n",
       "</style>\n",
       "<table border=\"1\" class=\"dataframe\">\n",
       "  <thead>\n",
       "    <tr style=\"text-align: right;\">\n",
       "      <th></th>\n",
       "      <th>Name</th>\n",
       "      <th>Sex</th>\n",
       "      <th>Age</th>\n",
       "      <th>Height</th>\n",
       "      <th>Weight</th>\n",
       "      <th>Income</th>\n",
       "      <th>Register</th>\n",
       "      <th>Login</th>\n",
       "    </tr>\n",
       "  </thead>\n",
       "  <tbody>\n",
       "    <tr>\n",
       "      <th>0</th>\n",
       "      <td>A</td>\n",
       "      <td>M</td>\n",
       "      <td>57</td>\n",
       "      <td>153.1</td>\n",
       "      <td>45.7</td>\n",
       "      <td>350</td>\n",
       "      <td>2011/06/11 19:52</td>\n",
       "      <td>2016/06/07 19:33</td>\n",
       "    </tr>\n",
       "    <tr>\n",
       "      <th>1</th>\n",
       "      <td>B</td>\n",
       "      <td>M</td>\n",
       "      <td>28</td>\n",
       "      <td>158.1</td>\n",
       "      <td>46.1</td>\n",
       "      <td>570</td>\n",
       "      <td>2009/07/05 11:09</td>\n",
       "      <td>2018/07/08 03:30</td>\n",
       "    </tr>\n",
       "    <tr>\n",
       "      <th>2</th>\n",
       "      <td>C</td>\n",
       "      <td>F</td>\n",
       "      <td>46</td>\n",
       "      <td>158.8</td>\n",
       "      <td>0.0</td>\n",
       "      <td>2130</td>\n",
       "      <td>2008/05/07 21:10</td>\n",
       "      <td>2017/06/04 13:07</td>\n",
       "    </tr>\n",
       "    <tr>\n",
       "      <th>3</th>\n",
       "      <td>D</td>\n",
       "      <td>M</td>\n",
       "      <td>55</td>\n",
       "      <td>162.3</td>\n",
       "      <td>62.8</td>\n",
       "      <td>670</td>\n",
       "      <td>1999/08/12 03:05</td>\n",
       "      <td>2017/08/12 16:07</td>\n",
       "    </tr>\n",
       "    <tr>\n",
       "      <th>4</th>\n",
       "      <td>E</td>\n",
       "      <td>F</td>\n",
       "      <td>43</td>\n",
       "      <td>162.7</td>\n",
       "      <td>65.8</td>\n",
       "      <td>400</td>\n",
       "      <td>1997/07/12 01:59</td>\n",
       "      <td>2017/07/10 22:48</td>\n",
       "    </tr>\n",
       "    <tr>\n",
       "      <th>5</th>\n",
       "      <td>F</td>\n",
       "      <td>F</td>\n",
       "      <td>40</td>\n",
       "      <td>160.1</td>\n",
       "      <td>45.6</td>\n",
       "      <td>900</td>\n",
       "      <td>2013/07/03 22:32</td>\n",
       "      <td>2018/12/04 14:37</td>\n",
       "    </tr>\n",
       "    <tr>\n",
       "      <th>6</th>\n",
       "      <td>G</td>\n",
       "      <td>M</td>\n",
       "      <td>49</td>\n",
       "      <td>166.5</td>\n",
       "      <td>72.9</td>\n",
       "      <td>32500</td>\n",
       "      <td>2001/07/30 01:35</td>\n",
       "      <td>2016/02/05 06:32</td>\n",
       "    </tr>\n",
       "    <tr>\n",
       "      <th>7</th>\n",
       "      <td>H</td>\n",
       "      <td>F</td>\n",
       "      <td>49</td>\n",
       "      <td>151.7</td>\n",
       "      <td>42.0</td>\n",
       "      <td>1200</td>\n",
       "      <td>2001/12/07 08:55</td>\n",
       "      <td>2017/12/02 15:15</td>\n",
       "    </tr>\n",
       "    <tr>\n",
       "      <th>8</th>\n",
       "      <td>I</td>\n",
       "      <td>M</td>\n",
       "      <td>28</td>\n",
       "      <td>166.0</td>\n",
       "      <td>66.2</td>\n",
       "      <td>720</td>\n",
       "      <td>1994/06/14 23:43</td>\n",
       "      <td>2016/05/13 17:59</td>\n",
       "    </tr>\n",
       "    <tr>\n",
       "      <th>9</th>\n",
       "      <td>J</td>\n",
       "      <td>F</td>\n",
       "      <td>36</td>\n",
       "      <td>153.4</td>\n",
       "      <td>0.0</td>\n",
       "      <td>330</td>\n",
       "      <td>1997/03/16 21:04</td>\n",
       "      <td>2018/11/26 05:32</td>\n",
       "    </tr>\n",
       "  </tbody>\n",
       "</table>\n",
       "</div>"
      ],
      "text/plain": [
       "  Name Sex  Age  Height  Weight  Income          Register             Login\n",
       "0    A   M   57   153.1    45.7     350  2011/06/11 19:52  2016/06/07 19:33\n",
       "1    B   M   28   158.1    46.1     570  2009/07/05 11:09  2018/07/08 03:30\n",
       "2    C   F   46   158.8     0.0    2130  2008/05/07 21:10  2017/06/04 13:07\n",
       "3    D   M   55   162.3    62.8     670  1999/08/12 03:05  2017/08/12 16:07\n",
       "4    E   F   43   162.7    65.8     400  1997/07/12 01:59  2017/07/10 22:48\n",
       "5    F   F   40   160.1    45.6     900  2013/07/03 22:32  2018/12/04 14:37\n",
       "6    G   M   49   166.5    72.9   32500  2001/07/30 01:35  2016/02/05 06:32\n",
       "7    H   F   49   151.7    42.0    1200  2001/12/07 08:55  2017/12/02 15:15\n",
       "8    I   M   28   166.0    66.2     720  1994/06/14 23:43  2016/05/13 17:59\n",
       "9    J   F   36   153.4     0.0     330  1997/03/16 21:04  2018/11/26 05:32"
      ]
     },
     "execution_count": 10,
     "metadata": {},
     "output_type": "execute_result"
    }
   ],
   "source": [
    "df.fillna(0)"
   ]
  },
  {
   "cell_type": "markdown",
   "metadata": {},
   "source": [
    "項目’Height’に欠損値を含むレコードの削除  \n",
    "※subset未指定の場合は、全項目が対象となる"
   ]
  },
  {
   "cell_type": "code",
   "execution_count": 11,
   "metadata": {},
   "outputs": [
    {
     "data": {
      "text/html": [
       "<div>\n",
       "<style scoped>\n",
       "    .dataframe tbody tr th:only-of-type {\n",
       "        vertical-align: middle;\n",
       "    }\n",
       "\n",
       "    .dataframe tbody tr th {\n",
       "        vertical-align: top;\n",
       "    }\n",
       "\n",
       "    .dataframe thead th {\n",
       "        text-align: right;\n",
       "    }\n",
       "</style>\n",
       "<table border=\"1\" class=\"dataframe\">\n",
       "  <thead>\n",
       "    <tr style=\"text-align: right;\">\n",
       "      <th></th>\n",
       "      <th>Name</th>\n",
       "      <th>Sex</th>\n",
       "      <th>Age</th>\n",
       "      <th>Height</th>\n",
       "      <th>Weight</th>\n",
       "      <th>Income</th>\n",
       "      <th>Register</th>\n",
       "      <th>Login</th>\n",
       "    </tr>\n",
       "  </thead>\n",
       "  <tbody>\n",
       "    <tr>\n",
       "      <th>0</th>\n",
       "      <td>A</td>\n",
       "      <td>M</td>\n",
       "      <td>57</td>\n",
       "      <td>153.1</td>\n",
       "      <td>45.7</td>\n",
       "      <td>350</td>\n",
       "      <td>2011/06/11 19:52</td>\n",
       "      <td>2016/06/07 19:33</td>\n",
       "    </tr>\n",
       "    <tr>\n",
       "      <th>1</th>\n",
       "      <td>B</td>\n",
       "      <td>M</td>\n",
       "      <td>28</td>\n",
       "      <td>158.1</td>\n",
       "      <td>46.1</td>\n",
       "      <td>570</td>\n",
       "      <td>2009/07/05 11:09</td>\n",
       "      <td>2018/07/08 03:30</td>\n",
       "    </tr>\n",
       "    <tr>\n",
       "      <th>2</th>\n",
       "      <td>C</td>\n",
       "      <td>F</td>\n",
       "      <td>46</td>\n",
       "      <td>158.8</td>\n",
       "      <td>NaN</td>\n",
       "      <td>2130</td>\n",
       "      <td>2008/05/07 21:10</td>\n",
       "      <td>2017/06/04 13:07</td>\n",
       "    </tr>\n",
       "    <tr>\n",
       "      <th>3</th>\n",
       "      <td>D</td>\n",
       "      <td>M</td>\n",
       "      <td>55</td>\n",
       "      <td>162.3</td>\n",
       "      <td>62.8</td>\n",
       "      <td>670</td>\n",
       "      <td>1999/08/12 03:05</td>\n",
       "      <td>2017/08/12 16:07</td>\n",
       "    </tr>\n",
       "    <tr>\n",
       "      <th>4</th>\n",
       "      <td>E</td>\n",
       "      <td>F</td>\n",
       "      <td>43</td>\n",
       "      <td>162.7</td>\n",
       "      <td>65.8</td>\n",
       "      <td>400</td>\n",
       "      <td>1997/07/12 01:59</td>\n",
       "      <td>2017/07/10 22:48</td>\n",
       "    </tr>\n",
       "    <tr>\n",
       "      <th>5</th>\n",
       "      <td>F</td>\n",
       "      <td>F</td>\n",
       "      <td>40</td>\n",
       "      <td>160.1</td>\n",
       "      <td>45.6</td>\n",
       "      <td>900</td>\n",
       "      <td>2013/07/03 22:32</td>\n",
       "      <td>2018/12/04 14:37</td>\n",
       "    </tr>\n",
       "    <tr>\n",
       "      <th>6</th>\n",
       "      <td>G</td>\n",
       "      <td>M</td>\n",
       "      <td>49</td>\n",
       "      <td>166.5</td>\n",
       "      <td>72.9</td>\n",
       "      <td>32500</td>\n",
       "      <td>2001/07/30 01:35</td>\n",
       "      <td>2016/02/05 06:32</td>\n",
       "    </tr>\n",
       "    <tr>\n",
       "      <th>7</th>\n",
       "      <td>H</td>\n",
       "      <td>F</td>\n",
       "      <td>49</td>\n",
       "      <td>151.7</td>\n",
       "      <td>42.0</td>\n",
       "      <td>1200</td>\n",
       "      <td>2001/12/07 08:55</td>\n",
       "      <td>2017/12/02 15:15</td>\n",
       "    </tr>\n",
       "    <tr>\n",
       "      <th>8</th>\n",
       "      <td>I</td>\n",
       "      <td>M</td>\n",
       "      <td>28</td>\n",
       "      <td>166.0</td>\n",
       "      <td>66.2</td>\n",
       "      <td>720</td>\n",
       "      <td>1994/06/14 23:43</td>\n",
       "      <td>2016/05/13 17:59</td>\n",
       "    </tr>\n",
       "    <tr>\n",
       "      <th>9</th>\n",
       "      <td>J</td>\n",
       "      <td>F</td>\n",
       "      <td>36</td>\n",
       "      <td>153.4</td>\n",
       "      <td>NaN</td>\n",
       "      <td>330</td>\n",
       "      <td>1997/03/16 21:04</td>\n",
       "      <td>2018/11/26 05:32</td>\n",
       "    </tr>\n",
       "  </tbody>\n",
       "</table>\n",
       "</div>"
      ],
      "text/plain": [
       "  Name Sex  Age  Height  Weight  Income          Register             Login\n",
       "0    A   M   57   153.1    45.7     350  2011/06/11 19:52  2016/06/07 19:33\n",
       "1    B   M   28   158.1    46.1     570  2009/07/05 11:09  2018/07/08 03:30\n",
       "2    C   F   46   158.8     NaN    2130  2008/05/07 21:10  2017/06/04 13:07\n",
       "3    D   M   55   162.3    62.8     670  1999/08/12 03:05  2017/08/12 16:07\n",
       "4    E   F   43   162.7    65.8     400  1997/07/12 01:59  2017/07/10 22:48\n",
       "5    F   F   40   160.1    45.6     900  2013/07/03 22:32  2018/12/04 14:37\n",
       "6    G   M   49   166.5    72.9   32500  2001/07/30 01:35  2016/02/05 06:32\n",
       "7    H   F   49   151.7    42.0    1200  2001/12/07 08:55  2017/12/02 15:15\n",
       "8    I   M   28   166.0    66.2     720  1994/06/14 23:43  2016/05/13 17:59\n",
       "9    J   F   36   153.4     NaN     330  1997/03/16 21:04  2018/11/26 05:32"
      ]
     },
     "execution_count": 11,
     "metadata": {},
     "output_type": "execute_result"
    }
   ],
   "source": [
    "df.dropna(subset=['Height'])"
   ]
  },
  {
   "cell_type": "markdown",
   "metadata": {},
   "source": [
    "欠損値を全て‘Height’の平均値で補完する"
   ]
  },
  {
   "cell_type": "code",
   "execution_count": 12,
   "metadata": {},
   "outputs": [
    {
     "data": {
      "text/plain": [
       "0    153.1\n",
       "1    158.1\n",
       "2    158.8\n",
       "3    162.3\n",
       "4    162.7\n",
       "5    160.1\n",
       "6    166.5\n",
       "7    151.7\n",
       "8    166.0\n",
       "9    153.4\n",
       "Name: Height, dtype: float64"
      ]
     },
     "execution_count": 12,
     "metadata": {},
     "output_type": "execute_result"
    }
   ],
   "source": [
    "df['Height'].fillna(df['Height'].mean())"
   ]
  },
  {
   "cell_type": "markdown",
   "metadata": {},
   "source": [
    "#### KNeighborsClassifierによる欠損値の補完"
   ]
  },
  {
   "cell_type": "code",
   "execution_count": 13,
   "metadata": {},
   "outputs": [
    {
     "data": {
      "text/html": [
       "<div>\n",
       "<style scoped>\n",
       "    .dataframe tbody tr th:only-of-type {\n",
       "        vertical-align: middle;\n",
       "    }\n",
       "\n",
       "    .dataframe tbody tr th {\n",
       "        vertical-align: top;\n",
       "    }\n",
       "\n",
       "    .dataframe thead th {\n",
       "        text-align: right;\n",
       "    }\n",
       "</style>\n",
       "<table border=\"1\" class=\"dataframe\">\n",
       "  <thead>\n",
       "    <tr style=\"text-align: right;\">\n",
       "      <th></th>\n",
       "      <th>Name</th>\n",
       "      <th>Sex</th>\n",
       "      <th>Age</th>\n",
       "      <th>Height</th>\n",
       "      <th>Weight</th>\n",
       "      <th>Income</th>\n",
       "      <th>Register</th>\n",
       "      <th>Login</th>\n",
       "      <th>Weight_cat</th>\n",
       "    </tr>\n",
       "  </thead>\n",
       "  <tbody>\n",
       "    <tr>\n",
       "      <th>2</th>\n",
       "      <td>C</td>\n",
       "      <td>F</td>\n",
       "      <td>46</td>\n",
       "      <td>158.8</td>\n",
       "      <td>NaN</td>\n",
       "      <td>2130</td>\n",
       "      <td>2008/05/07 21:10</td>\n",
       "      <td>2017/06/04 13:07</td>\n",
       "      <td>40.0</td>\n",
       "    </tr>\n",
       "    <tr>\n",
       "      <th>9</th>\n",
       "      <td>J</td>\n",
       "      <td>F</td>\n",
       "      <td>36</td>\n",
       "      <td>153.4</td>\n",
       "      <td>NaN</td>\n",
       "      <td>330</td>\n",
       "      <td>1997/03/16 21:04</td>\n",
       "      <td>2018/11/26 05:32</td>\n",
       "      <td>40.0</td>\n",
       "    </tr>\n",
       "  </tbody>\n",
       "</table>\n",
       "</div>"
      ],
      "text/plain": [
       "  Name Sex  Age  Height  Weight  Income          Register             Login  \\\n",
       "2    C   F   46   158.8     NaN    2130  2008/05/07 21:10  2017/06/04 13:07   \n",
       "9    J   F   36   153.4     NaN     330  1997/03/16 21:04  2018/11/26 05:32   \n",
       "\n",
       "   Weight_cat  \n",
       "2        40.0  \n",
       "9        40.0  "
      ]
     },
     "execution_count": 13,
     "metadata": {},
     "output_type": "execute_result"
    }
   ],
   "source": [
    "from sklearn.neighbors import KNeighborsClassifier\n",
    "df['Weight_cat'] = pd.Categorical(np.floor(df['Weight']/10)*10)\n",
    "#'Weight'のカテゴリ型化\n",
    "train = df.dropna(subset=['Weight_cat'], inplace=False)\n",
    "missing_df = df.loc[df.index.difference(train.index), :]\n",
    "#trainデータと欠損データに抽出\n",
    "\n",
    "knn = KNeighborsClassifier(n_neighbors=3)\n",
    "#knnモデル生成\n",
    "knn.fit(train[['Age','Height']], train['Weight_cat'])\n",
    "#trainデータの'Age','Height'からモデル学習\n",
    "missing_df['Weight_cat'] = knn.predict(missing_df[['Age','Height']])\n",
    "#推論、補完\n",
    "missing_df"
   ]
  },
  {
   "cell_type": "markdown",
   "metadata": {},
   "source": [
    "### データ型変換"
   ]
  },
  {
   "cell_type": "markdown",
   "metadata": {},
   "source": [
    "#### 数値型"
   ]
  },
  {
   "cell_type": "markdown",
   "metadata": {},
   "source": [
    "整数型へ変換  \n",
    "※8ビット(int8),32ビット(int32),64ビット(int64)"
   ]
  },
  {
   "cell_type": "code",
   "execution_count": 14,
   "metadata": {},
   "outputs": [
    {
     "data": {
      "text/plain": [
       "0    153\n",
       "1    158\n",
       "2    158\n",
       "3    162\n",
       "4    162\n",
       "5    160\n",
       "6    166\n",
       "7    151\n",
       "8    166\n",
       "9    153\n",
       "Name: Height, dtype: int16"
      ]
     },
     "execution_count": 14,
     "metadata": {},
     "output_type": "execute_result"
    }
   ],
   "source": [
    "df['Height'].astype('int16')"
   ]
  },
  {
   "cell_type": "markdown",
   "metadata": {},
   "source": [
    "浮動小数点型へ変換  \n",
    "※32ビット(float32),64ビット(float64),128ビット(float128)"
   ]
  },
  {
   "cell_type": "code",
   "execution_count": 15,
   "metadata": {},
   "outputs": [
    {
     "data": {
      "text/plain": [
       "0    153.125\n",
       "1    158.125\n",
       "2    158.750\n",
       "3    162.250\n",
       "4    162.750\n",
       "5    160.125\n",
       "6    166.500\n",
       "7    151.750\n",
       "8    166.000\n",
       "9    153.375\n",
       "Name: Height, dtype: float16"
      ]
     },
     "execution_count": 15,
     "metadata": {},
     "output_type": "execute_result"
    }
   ],
   "source": [
    "df['Height'].astype('float16')"
   ]
  },
  {
   "cell_type": "markdown",
   "metadata": {},
   "source": [
    "対数値へ変換"
   ]
  },
  {
   "cell_type": "code",
   "execution_count": 16,
   "metadata": {},
   "outputs": [
    {
     "data": {
      "text/plain": [
       "0    2.184975\n",
       "1    2.198932\n",
       "2    2.200850\n",
       "3    2.210319\n",
       "4    2.211388\n",
       "5    2.204391\n",
       "6    2.221414\n",
       "7    2.180986\n",
       "8    2.220108\n",
       "9    2.185825\n",
       "Name: Height, dtype: float64"
      ]
     },
     "execution_count": 16,
     "metadata": {},
     "output_type": "execute_result"
    }
   ],
   "source": [
    "df['Height'].apply(lambda x: np.log10(x))"
   ]
  },
  {
   "cell_type": "markdown",
   "metadata": {},
   "source": [
    "#### カテゴリ型"
   ]
  },
  {
   "cell_type": "markdown",
   "metadata": {},
   "source": [
    "カテゴリ型に変換"
   ]
  },
  {
   "cell_type": "code",
   "execution_count": 17,
   "metadata": {},
   "outputs": [],
   "source": [
    "df['Sex'] = pd.Categorical(df['Sex'])"
   ]
  },
  {
   "cell_type": "markdown",
   "metadata": {},
   "source": [
    "get_dummies関数によるダミー変数化"
   ]
  },
  {
   "cell_type": "code",
   "execution_count": 18,
   "metadata": {},
   "outputs": [
    {
     "data": {
      "text/html": [
       "<div>\n",
       "<style scoped>\n",
       "    .dataframe tbody tr th:only-of-type {\n",
       "        vertical-align: middle;\n",
       "    }\n",
       "\n",
       "    .dataframe tbody tr th {\n",
       "        vertical-align: top;\n",
       "    }\n",
       "\n",
       "    .dataframe thead th {\n",
       "        text-align: right;\n",
       "    }\n",
       "</style>\n",
       "<table border=\"1\" class=\"dataframe\">\n",
       "  <thead>\n",
       "    <tr style=\"text-align: right;\">\n",
       "      <th></th>\n",
       "      <th>F</th>\n",
       "      <th>M</th>\n",
       "    </tr>\n",
       "  </thead>\n",
       "  <tbody>\n",
       "    <tr>\n",
       "      <th>0</th>\n",
       "      <td>0</td>\n",
       "      <td>1</td>\n",
       "    </tr>\n",
       "    <tr>\n",
       "      <th>1</th>\n",
       "      <td>0</td>\n",
       "      <td>1</td>\n",
       "    </tr>\n",
       "    <tr>\n",
       "      <th>2</th>\n",
       "      <td>1</td>\n",
       "      <td>0</td>\n",
       "    </tr>\n",
       "    <tr>\n",
       "      <th>3</th>\n",
       "      <td>0</td>\n",
       "      <td>1</td>\n",
       "    </tr>\n",
       "    <tr>\n",
       "      <th>4</th>\n",
       "      <td>1</td>\n",
       "      <td>0</td>\n",
       "    </tr>\n",
       "    <tr>\n",
       "      <th>5</th>\n",
       "      <td>1</td>\n",
       "      <td>0</td>\n",
       "    </tr>\n",
       "    <tr>\n",
       "      <th>6</th>\n",
       "      <td>0</td>\n",
       "      <td>1</td>\n",
       "    </tr>\n",
       "    <tr>\n",
       "      <th>7</th>\n",
       "      <td>1</td>\n",
       "      <td>0</td>\n",
       "    </tr>\n",
       "    <tr>\n",
       "      <th>8</th>\n",
       "      <td>0</td>\n",
       "      <td>1</td>\n",
       "    </tr>\n",
       "    <tr>\n",
       "      <th>9</th>\n",
       "      <td>1</td>\n",
       "      <td>0</td>\n",
       "    </tr>\n",
       "  </tbody>\n",
       "</table>\n",
       "</div>"
      ],
      "text/plain": [
       "   F  M\n",
       "0  0  1\n",
       "1  0  1\n",
       "2  1  0\n",
       "3  0  1\n",
       "4  1  0\n",
       "5  1  0\n",
       "6  0  1\n",
       "7  1  0\n",
       "8  0  1\n",
       "9  1  0"
      ]
     },
     "execution_count": 18,
     "metadata": {},
     "output_type": "execute_result"
    }
   ],
   "source": [
    "dummy_vars = pd.get_dummies(df['Sex'])\n",
    "dummy_vars"
   ]
  },
  {
   "cell_type": "markdown",
   "metadata": {},
   "source": [
    "連続データをカテゴリ型に変換"
   ]
  },
  {
   "cell_type": "code",
   "execution_count": 19,
   "metadata": {},
   "outputs": [
    {
     "data": {
      "text/plain": [
       "0    50.0\n",
       "1    20.0\n",
       "2    40.0\n",
       "3    50.0\n",
       "4    40.0\n",
       "5    40.0\n",
       "6    40.0\n",
       "7    40.0\n",
       "8    20.0\n",
       "9    30.0\n",
       "Name: Age_cat, dtype: category\n",
       "Categories (4, float64): [20.0, 30.0, 40.0, 50.0]"
      ]
     },
     "execution_count": 19,
     "metadata": {},
     "output_type": "execute_result"
    }
   ],
   "source": [
    "df['Age_cat'] = pd.Categorical(np.floor(df['Age']/10)*10)\n",
    "df['Age_cat']"
   ]
  },
  {
   "cell_type": "markdown",
   "metadata": {},
   "source": [
    "カテゴリ型columnの追加と集約"
   ]
  },
  {
   "cell_type": "code",
   "execution_count": 20,
   "metadata": {},
   "outputs": [],
   "source": [
    "df['Age_cat'].cat.add_categories(['over_40'], inplace=True)"
   ]
  },
  {
   "cell_type": "code",
   "execution_count": 21,
   "metadata": {},
   "outputs": [
    {
     "data": {
      "text/html": [
       "<div>\n",
       "<style scoped>\n",
       "    .dataframe tbody tr th:only-of-type {\n",
       "        vertical-align: middle;\n",
       "    }\n",
       "\n",
       "    .dataframe tbody tr th {\n",
       "        vertical-align: top;\n",
       "    }\n",
       "\n",
       "    .dataframe thead th {\n",
       "        text-align: right;\n",
       "    }\n",
       "</style>\n",
       "<table border=\"1\" class=\"dataframe\">\n",
       "  <thead>\n",
       "    <tr style=\"text-align: right;\">\n",
       "      <th></th>\n",
       "      <th>Name</th>\n",
       "      <th>Sex</th>\n",
       "      <th>Age</th>\n",
       "      <th>Height</th>\n",
       "      <th>Weight</th>\n",
       "      <th>Income</th>\n",
       "      <th>Register</th>\n",
       "      <th>Login</th>\n",
       "      <th>Weight_cat</th>\n",
       "      <th>Age_cat</th>\n",
       "    </tr>\n",
       "  </thead>\n",
       "  <tbody>\n",
       "    <tr>\n",
       "      <th>0</th>\n",
       "      <td>A</td>\n",
       "      <td>M</td>\n",
       "      <td>57</td>\n",
       "      <td>153.1</td>\n",
       "      <td>45.7</td>\n",
       "      <td>350</td>\n",
       "      <td>2011/06/11 19:52</td>\n",
       "      <td>2016/06/07 19:33</td>\n",
       "      <td>40.0</td>\n",
       "      <td>over_40</td>\n",
       "    </tr>\n",
       "    <tr>\n",
       "      <th>1</th>\n",
       "      <td>B</td>\n",
       "      <td>M</td>\n",
       "      <td>28</td>\n",
       "      <td>158.1</td>\n",
       "      <td>46.1</td>\n",
       "      <td>570</td>\n",
       "      <td>2009/07/05 11:09</td>\n",
       "      <td>2018/07/08 03:30</td>\n",
       "      <td>40.0</td>\n",
       "      <td>20</td>\n",
       "    </tr>\n",
       "    <tr>\n",
       "      <th>2</th>\n",
       "      <td>C</td>\n",
       "      <td>F</td>\n",
       "      <td>46</td>\n",
       "      <td>158.8</td>\n",
       "      <td>NaN</td>\n",
       "      <td>2130</td>\n",
       "      <td>2008/05/07 21:10</td>\n",
       "      <td>2017/06/04 13:07</td>\n",
       "      <td>NaN</td>\n",
       "      <td>over_40</td>\n",
       "    </tr>\n",
       "    <tr>\n",
       "      <th>3</th>\n",
       "      <td>D</td>\n",
       "      <td>M</td>\n",
       "      <td>55</td>\n",
       "      <td>162.3</td>\n",
       "      <td>62.8</td>\n",
       "      <td>670</td>\n",
       "      <td>1999/08/12 03:05</td>\n",
       "      <td>2017/08/12 16:07</td>\n",
       "      <td>60.0</td>\n",
       "      <td>over_40</td>\n",
       "    </tr>\n",
       "    <tr>\n",
       "      <th>4</th>\n",
       "      <td>E</td>\n",
       "      <td>F</td>\n",
       "      <td>43</td>\n",
       "      <td>162.7</td>\n",
       "      <td>65.8</td>\n",
       "      <td>400</td>\n",
       "      <td>1997/07/12 01:59</td>\n",
       "      <td>2017/07/10 22:48</td>\n",
       "      <td>60.0</td>\n",
       "      <td>over_40</td>\n",
       "    </tr>\n",
       "    <tr>\n",
       "      <th>5</th>\n",
       "      <td>F</td>\n",
       "      <td>F</td>\n",
       "      <td>40</td>\n",
       "      <td>160.1</td>\n",
       "      <td>45.6</td>\n",
       "      <td>900</td>\n",
       "      <td>2013/07/03 22:32</td>\n",
       "      <td>2018/12/04 14:37</td>\n",
       "      <td>40.0</td>\n",
       "      <td>over_40</td>\n",
       "    </tr>\n",
       "    <tr>\n",
       "      <th>6</th>\n",
       "      <td>G</td>\n",
       "      <td>M</td>\n",
       "      <td>49</td>\n",
       "      <td>166.5</td>\n",
       "      <td>72.9</td>\n",
       "      <td>32500</td>\n",
       "      <td>2001/07/30 01:35</td>\n",
       "      <td>2016/02/05 06:32</td>\n",
       "      <td>70.0</td>\n",
       "      <td>over_40</td>\n",
       "    </tr>\n",
       "    <tr>\n",
       "      <th>7</th>\n",
       "      <td>H</td>\n",
       "      <td>F</td>\n",
       "      <td>49</td>\n",
       "      <td>151.7</td>\n",
       "      <td>42.0</td>\n",
       "      <td>1200</td>\n",
       "      <td>2001/12/07 08:55</td>\n",
       "      <td>2017/12/02 15:15</td>\n",
       "      <td>40.0</td>\n",
       "      <td>over_40</td>\n",
       "    </tr>\n",
       "    <tr>\n",
       "      <th>8</th>\n",
       "      <td>I</td>\n",
       "      <td>M</td>\n",
       "      <td>28</td>\n",
       "      <td>166.0</td>\n",
       "      <td>66.2</td>\n",
       "      <td>720</td>\n",
       "      <td>1994/06/14 23:43</td>\n",
       "      <td>2016/05/13 17:59</td>\n",
       "      <td>60.0</td>\n",
       "      <td>20</td>\n",
       "    </tr>\n",
       "    <tr>\n",
       "      <th>9</th>\n",
       "      <td>J</td>\n",
       "      <td>F</td>\n",
       "      <td>36</td>\n",
       "      <td>153.4</td>\n",
       "      <td>NaN</td>\n",
       "      <td>330</td>\n",
       "      <td>1997/03/16 21:04</td>\n",
       "      <td>2018/11/26 05:32</td>\n",
       "      <td>NaN</td>\n",
       "      <td>30</td>\n",
       "    </tr>\n",
       "  </tbody>\n",
       "</table>\n",
       "</div>"
      ],
      "text/plain": [
       "  Name Sex  Age  Height  Weight  Income          Register             Login  \\\n",
       "0    A   M   57   153.1    45.7     350  2011/06/11 19:52  2016/06/07 19:33   \n",
       "1    B   M   28   158.1    46.1     570  2009/07/05 11:09  2018/07/08 03:30   \n",
       "2    C   F   46   158.8     NaN    2130  2008/05/07 21:10  2017/06/04 13:07   \n",
       "3    D   M   55   162.3    62.8     670  1999/08/12 03:05  2017/08/12 16:07   \n",
       "4    E   F   43   162.7    65.8     400  1997/07/12 01:59  2017/07/10 22:48   \n",
       "5    F   F   40   160.1    45.6     900  2013/07/03 22:32  2018/12/04 14:37   \n",
       "6    G   M   49   166.5    72.9   32500  2001/07/30 01:35  2016/02/05 06:32   \n",
       "7    H   F   49   151.7    42.0    1200  2001/12/07 08:55  2017/12/02 15:15   \n",
       "8    I   M   28   166.0    66.2     720  1994/06/14 23:43  2016/05/13 17:59   \n",
       "9    J   F   36   153.4     NaN     330  1997/03/16 21:04  2018/11/26 05:32   \n",
       "\n",
       "  Weight_cat  Age_cat  \n",
       "0       40.0  over_40  \n",
       "1       40.0       20  \n",
       "2        NaN  over_40  \n",
       "3       60.0  over_40  \n",
       "4       60.0  over_40  \n",
       "5       40.0  over_40  \n",
       "6       70.0  over_40  \n",
       "7       40.0  over_40  \n",
       "8       60.0       20  \n",
       "9        NaN       30  "
      ]
     },
     "execution_count": 21,
     "metadata": {},
     "output_type": "execute_result"
    }
   ],
   "source": [
    "df.loc[df['Age_cat'].isin([40, 50]), 'Age_cat'] = 'over_40'\n",
    "df"
   ]
  },
  {
   "cell_type": "markdown",
   "metadata": {},
   "source": [
    "#### 日時型"
   ]
  },
  {
   "cell_type": "markdown",
   "metadata": {},
   "source": [
    "object型からをdatetime64に変換"
   ]
  },
  {
   "cell_type": "markdown",
   "metadata": {},
   "source": [
    "DataFrameのreload"
   ]
  },
  {
   "cell_type": "code",
   "execution_count": 22,
   "metadata": {},
   "outputs": [],
   "source": [
    "df = pd.read_csv('data.csv')"
   ]
  },
  {
   "cell_type": "code",
   "execution_count": 23,
   "metadata": {},
   "outputs": [
    {
     "data": {
      "text/plain": [
       "0   2011-06-11 19:52:00\n",
       "1   2009-07-05 11:09:00\n",
       "2   2008-05-07 21:10:00\n",
       "3   1999-08-12 03:05:00\n",
       "4   1997-07-12 01:59:00\n",
       "5   2013-07-03 22:32:00\n",
       "6   2001-07-30 01:35:00\n",
       "7   2001-12-07 08:55:00\n",
       "8   1994-06-14 23:43:00\n",
       "9   1997-03-16 21:04:00\n",
       "Name: Register, dtype: datetime64[ns]"
      ]
     },
     "execution_count": 23,
     "metadata": {},
     "output_type": "execute_result"
    }
   ],
   "source": [
    "df['Register'] = pd.to_datetime(df['Register'],format='%Y-%m-%d %H:%M:%S')\n",
    "df['Login'] = pd.to_datetime(df['Login'],format='%Y-%m-%d %H:%M:%S')\n",
    "df['Register']"
   ]
  },
  {
   "cell_type": "markdown",
   "metadata": {},
   "source": [
    "年情報を取得  \n",
    "日以下は以下の通り  \n",
    "月\tdf.dt.month  \n",
    "日\tdf.dt.day  \n",
    "曜日(0:日曜,6:土曜)\tdf.dt.dayofweek  \n",
    "時\tdf.dt.hour  \n",
    "分\tdt.minute  \n",
    "秒\tsecond  "
   ]
  },
  {
   "cell_type": "code",
   "execution_count": 24,
   "metadata": {},
   "outputs": [
    {
     "data": {
      "text/plain": [
       "0    2011\n",
       "1    2009\n",
       "2    2008\n",
       "3    1999\n",
       "4    1997\n",
       "5    2013\n",
       "6    2001\n",
       "7    2001\n",
       "8    1994\n",
       "9    1997\n",
       "Name: Register, dtype: int64"
      ]
     },
     "execution_count": 24,
     "metadata": {},
     "output_type": "execute_result"
    }
   ],
   "source": [
    "import datetime\n",
    "df['Register'].dt.year"
   ]
  },
  {
   "cell_type": "markdown",
   "metadata": {},
   "source": [
    "年の差を計算"
   ]
  },
  {
   "cell_type": "code",
   "execution_count": 25,
   "metadata": {},
   "outputs": [
    {
     "data": {
      "text/plain": [
       "0    -5\n",
       "1    -9\n",
       "2    -9\n",
       "3   -18\n",
       "4   -20\n",
       "5    -5\n",
       "6   -15\n",
       "7   -16\n",
       "8   -22\n",
       "9   -21\n",
       "dtype: int64"
      ]
     },
     "execution_count": 25,
     "metadata": {},
     "output_type": "execute_result"
    }
   ],
   "source": [
    "df['Register'].dt.year - df['Login'].dt.year"
   ]
  },
  {
   "cell_type": "markdown",
   "metadata": {},
   "source": [
    "月の差を計算"
   ]
  },
  {
   "cell_type": "code",
   "execution_count": 26,
   "metadata": {},
   "outputs": [
    {
     "data": {
      "text/plain": [
       "0    -60\n",
       "1   -108\n",
       "2   -109\n",
       "3   -216\n",
       "4   -240\n",
       "5    -65\n",
       "6   -175\n",
       "7   -192\n",
       "8   -263\n",
       "9   -260\n",
       "dtype: int64"
      ]
     },
     "execution_count": 26,
     "metadata": {},
     "output_type": "execute_result"
    }
   ],
   "source": [
    "(df['Register'].dt.year * 12 + df['Register'].dt.month) - (df['Login'].dt.year * 12 +df['Login'].dt.month)"
   ]
  },
  {
   "cell_type": "markdown",
   "metadata": {},
   "source": [
    "日の差を計算(時単位以下は、[D]が時:[h],分:[m],秒:[s])"
   ]
  },
  {
   "cell_type": "code",
   "execution_count": 27,
   "metadata": {},
   "outputs": [
    {
     "data": {
      "text/plain": [
       "0   -1823.0\n",
       "1   -3290.0\n",
       "2   -3315.0\n",
       "3   -6576.0\n",
       "4   -7304.0\n",
       "5   -1980.0\n",
       "6   -5304.0\n",
       "7   -5840.0\n",
       "8   -8004.0\n",
       "9   -7925.0\n",
       "dtype: float64"
      ]
     },
     "execution_count": 27,
     "metadata": {},
     "output_type": "execute_result"
    }
   ],
   "source": [
    "(df['Register'] - df['Login']).astype('timedelta64[D]')"
   ]
  },
  {
   "cell_type": "markdown",
   "metadata": {},
   "source": [
    "1日加える.その他の時間単位は以下の通り  \n",
    "(1時間:(hours=1),1分(minutes=1),1秒(seconds=1))"
   ]
  },
  {
   "cell_type": "code",
   "execution_count": 28,
   "metadata": {},
   "outputs": [
    {
     "data": {
      "text/plain": [
       "0   2011-06-12 19:52:00\n",
       "1   2009-07-06 11:09:00\n",
       "2   2008-05-08 21:10:00\n",
       "3   1999-08-13 03:05:00\n",
       "4   1997-07-13 01:59:00\n",
       "5   2013-07-04 22:32:00\n",
       "6   2001-07-31 01:35:00\n",
       "7   2001-12-08 08:55:00\n",
       "8   1994-06-15 23:43:00\n",
       "9   1997-03-17 21:04:00\n",
       "Name: Register, dtype: datetime64[ns]"
      ]
     },
     "execution_count": 28,
     "metadata": {},
     "output_type": "execute_result"
    }
   ],
   "source": [
    "df['Register'] + datetime.timedelta(days=1)"
   ]
  },
  {
   "cell_type": "markdown",
   "metadata": {},
   "source": [
    "#### 正規化"
   ]
  },
  {
   "cell_type": "markdown",
   "metadata": {},
   "source": [
    "DataFrameのreload"
   ]
  },
  {
   "cell_type": "code",
   "execution_count": 29,
   "metadata": {},
   "outputs": [
    {
     "data": {
      "text/html": [
       "<div>\n",
       "<style scoped>\n",
       "    .dataframe tbody tr th:only-of-type {\n",
       "        vertical-align: middle;\n",
       "    }\n",
       "\n",
       "    .dataframe tbody tr th {\n",
       "        vertical-align: top;\n",
       "    }\n",
       "\n",
       "    .dataframe thead th {\n",
       "        text-align: right;\n",
       "    }\n",
       "</style>\n",
       "<table border=\"1\" class=\"dataframe\">\n",
       "  <thead>\n",
       "    <tr style=\"text-align: right;\">\n",
       "      <th></th>\n",
       "      <th>Name</th>\n",
       "      <th>Sex</th>\n",
       "      <th>Age</th>\n",
       "      <th>Height</th>\n",
       "      <th>Weight</th>\n",
       "      <th>Income</th>\n",
       "      <th>Register</th>\n",
       "      <th>Login</th>\n",
       "    </tr>\n",
       "  </thead>\n",
       "  <tbody>\n",
       "    <tr>\n",
       "      <th>0</th>\n",
       "      <td>A</td>\n",
       "      <td>M</td>\n",
       "      <td>57</td>\n",
       "      <td>153.1</td>\n",
       "      <td>45.7</td>\n",
       "      <td>350</td>\n",
       "      <td>2011/06/11 19:52</td>\n",
       "      <td>2016/06/07 19:33</td>\n",
       "    </tr>\n",
       "    <tr>\n",
       "      <th>1</th>\n",
       "      <td>B</td>\n",
       "      <td>M</td>\n",
       "      <td>28</td>\n",
       "      <td>158.1</td>\n",
       "      <td>46.1</td>\n",
       "      <td>570</td>\n",
       "      <td>2009/07/05 11:09</td>\n",
       "      <td>2018/07/08 03:30</td>\n",
       "    </tr>\n",
       "    <tr>\n",
       "      <th>2</th>\n",
       "      <td>C</td>\n",
       "      <td>F</td>\n",
       "      <td>46</td>\n",
       "      <td>158.8</td>\n",
       "      <td>NaN</td>\n",
       "      <td>2130</td>\n",
       "      <td>2008/05/07 21:10</td>\n",
       "      <td>2017/06/04 13:07</td>\n",
       "    </tr>\n",
       "    <tr>\n",
       "      <th>3</th>\n",
       "      <td>D</td>\n",
       "      <td>M</td>\n",
       "      <td>55</td>\n",
       "      <td>162.3</td>\n",
       "      <td>62.8</td>\n",
       "      <td>670</td>\n",
       "      <td>1999/08/12 03:05</td>\n",
       "      <td>2017/08/12 16:07</td>\n",
       "    </tr>\n",
       "    <tr>\n",
       "      <th>4</th>\n",
       "      <td>E</td>\n",
       "      <td>F</td>\n",
       "      <td>43</td>\n",
       "      <td>162.7</td>\n",
       "      <td>65.8</td>\n",
       "      <td>400</td>\n",
       "      <td>1997/07/12 01:59</td>\n",
       "      <td>2017/07/10 22:48</td>\n",
       "    </tr>\n",
       "    <tr>\n",
       "      <th>5</th>\n",
       "      <td>F</td>\n",
       "      <td>F</td>\n",
       "      <td>40</td>\n",
       "      <td>160.1</td>\n",
       "      <td>45.6</td>\n",
       "      <td>900</td>\n",
       "      <td>2013/07/03 22:32</td>\n",
       "      <td>2018/12/04 14:37</td>\n",
       "    </tr>\n",
       "    <tr>\n",
       "      <th>6</th>\n",
       "      <td>G</td>\n",
       "      <td>M</td>\n",
       "      <td>49</td>\n",
       "      <td>166.5</td>\n",
       "      <td>72.9</td>\n",
       "      <td>32500</td>\n",
       "      <td>2001/07/30 01:35</td>\n",
       "      <td>2016/02/05 06:32</td>\n",
       "    </tr>\n",
       "    <tr>\n",
       "      <th>7</th>\n",
       "      <td>H</td>\n",
       "      <td>F</td>\n",
       "      <td>49</td>\n",
       "      <td>151.7</td>\n",
       "      <td>42.0</td>\n",
       "      <td>1200</td>\n",
       "      <td>2001/12/07 08:55</td>\n",
       "      <td>2017/12/02 15:15</td>\n",
       "    </tr>\n",
       "    <tr>\n",
       "      <th>8</th>\n",
       "      <td>I</td>\n",
       "      <td>M</td>\n",
       "      <td>28</td>\n",
       "      <td>166.0</td>\n",
       "      <td>66.2</td>\n",
       "      <td>720</td>\n",
       "      <td>1994/06/14 23:43</td>\n",
       "      <td>2016/05/13 17:59</td>\n",
       "    </tr>\n",
       "    <tr>\n",
       "      <th>9</th>\n",
       "      <td>J</td>\n",
       "      <td>F</td>\n",
       "      <td>36</td>\n",
       "      <td>153.4</td>\n",
       "      <td>NaN</td>\n",
       "      <td>330</td>\n",
       "      <td>1997/03/16 21:04</td>\n",
       "      <td>2018/11/26 05:32</td>\n",
       "    </tr>\n",
       "  </tbody>\n",
       "</table>\n",
       "</div>"
      ],
      "text/plain": [
       "  Name Sex  Age  Height  Weight  Income          Register             Login\n",
       "0    A   M   57   153.1    45.7     350  2011/06/11 19:52  2016/06/07 19:33\n",
       "1    B   M   28   158.1    46.1     570  2009/07/05 11:09  2018/07/08 03:30\n",
       "2    C   F   46   158.8     NaN    2130  2008/05/07 21:10  2017/06/04 13:07\n",
       "3    D   M   55   162.3    62.8     670  1999/08/12 03:05  2017/08/12 16:07\n",
       "4    E   F   43   162.7    65.8     400  1997/07/12 01:59  2017/07/10 22:48\n",
       "5    F   F   40   160.1    45.6     900  2013/07/03 22:32  2018/12/04 14:37\n",
       "6    G   M   49   166.5    72.9   32500  2001/07/30 01:35  2016/02/05 06:32\n",
       "7    H   F   49   151.7    42.0    1200  2001/12/07 08:55  2017/12/02 15:15\n",
       "8    I   M   28   166.0    66.2     720  1994/06/14 23:43  2016/05/13 17:59\n",
       "9    J   F   36   153.4     NaN     330  1997/03/16 21:04  2018/11/26 05:32"
      ]
     },
     "execution_count": 29,
     "metadata": {},
     "output_type": "execute_result"
    }
   ],
   "source": [
    "df = pd.read_csv('data.csv')\n",
    "df"
   ]
  },
  {
   "cell_type": "markdown",
   "metadata": {},
   "source": [
    "平均0、分散1に変換"
   ]
  },
  {
   "cell_type": "code",
   "execution_count": 30,
   "metadata": {},
   "outputs": [
    {
     "data": {
      "text/plain": [
       "0   -0.380935\n",
       "1   -0.357829\n",
       "2   -0.193986\n",
       "3   -0.347326\n",
       "4   -0.375683\n",
       "5   -0.323170\n",
       "6    2.995698\n",
       "7   -0.291661\n",
       "8   -0.342074\n",
       "9   -0.383035\n",
       "Name: Income, dtype: float64"
      ]
     },
     "execution_count": 30,
     "metadata": {},
     "output_type": "execute_result"
    }
   ],
   "source": [
    "from sklearn.preprocessing import StandardScaler\n",
    "df['Income'] = df['Income'].astype(float)\n",
    "#float型に変換\n",
    "ss = StandardScaler()\n",
    "#オブジェクト生成\n",
    "income_ss = ss.fit_transform(df[['Income']])\n",
    "df['Income'] = [x[0] for x in income_ss]\n",
    "df['Income']"
   ]
  },
  {
   "cell_type": "markdown",
   "metadata": {},
   "source": [
    "DataFrameのreload"
   ]
  },
  {
   "cell_type": "code",
   "execution_count": 31,
   "metadata": {},
   "outputs": [],
   "source": [
    "df = pd.read_csv('data.csv')"
   ]
  },
  {
   "cell_type": "markdown",
   "metadata": {},
   "source": [
    "最小値0、最大値1に変換"
   ]
  },
  {
   "cell_type": "code",
   "execution_count": 32,
   "metadata": {},
   "outputs": [
    {
     "data": {
      "text/plain": [
       "0    0.000622\n",
       "1    0.007460\n",
       "2    0.055953\n",
       "3    0.010569\n",
       "4    0.002176\n",
       "5    0.017718\n",
       "6    1.000000\n",
       "7    0.027044\n",
       "8    0.012123\n",
       "9    0.000000\n",
       "Name: Income, dtype: float64"
      ]
     },
     "execution_count": 32,
     "metadata": {},
     "output_type": "execute_result"
    }
   ],
   "source": [
    "from sklearn.preprocessing import MinMaxScaler\n",
    "df['Income'] = df['Income'].astype(float)\n",
    "#float型に変換\n",
    "mm = MinMaxScaler()\n",
    "#オブジェクト生成\n",
    "income_mm = mm.fit_transform(df[['Income']])\n",
    "df['Income'] = [x[0] for x in income_mm]\n",
    "df['Income']"
   ]
  },
  {
   "cell_type": "markdown",
   "metadata": {},
   "source": [
    "DataFrameのreload"
   ]
  },
  {
   "cell_type": "code",
   "execution_count": 33,
   "metadata": {},
   "outputs": [],
   "source": [
    "df = pd.read_csv('data.csv')"
   ]
  },
  {
   "cell_type": "markdown",
   "metadata": {},
   "source": [
    "均値から標準偏差の3倍以上離れている要素の削除  \n",
    "※この場合その要素はありません"
   ]
  },
  {
   "cell_type": "code",
   "execution_count": 34,
   "metadata": {},
   "outputs": [
    {
     "data": {
      "text/html": [
       "<div>\n",
       "<style scoped>\n",
       "    .dataframe tbody tr th:only-of-type {\n",
       "        vertical-align: middle;\n",
       "    }\n",
       "\n",
       "    .dataframe tbody tr th {\n",
       "        vertical-align: top;\n",
       "    }\n",
       "\n",
       "    .dataframe thead th {\n",
       "        text-align: right;\n",
       "    }\n",
       "</style>\n",
       "<table border=\"1\" class=\"dataframe\">\n",
       "  <thead>\n",
       "    <tr style=\"text-align: right;\">\n",
       "      <th></th>\n",
       "      <th>Name</th>\n",
       "      <th>Sex</th>\n",
       "      <th>Age</th>\n",
       "      <th>Height</th>\n",
       "      <th>Weight</th>\n",
       "      <th>Income</th>\n",
       "      <th>Register</th>\n",
       "      <th>Login</th>\n",
       "    </tr>\n",
       "  </thead>\n",
       "  <tbody>\n",
       "    <tr>\n",
       "      <th>0</th>\n",
       "      <td>A</td>\n",
       "      <td>M</td>\n",
       "      <td>57</td>\n",
       "      <td>153.1</td>\n",
       "      <td>45.7</td>\n",
       "      <td>350</td>\n",
       "      <td>2011/06/11 19:52</td>\n",
       "      <td>2016/06/07 19:33</td>\n",
       "    </tr>\n",
       "    <tr>\n",
       "      <th>1</th>\n",
       "      <td>B</td>\n",
       "      <td>M</td>\n",
       "      <td>28</td>\n",
       "      <td>158.1</td>\n",
       "      <td>46.1</td>\n",
       "      <td>570</td>\n",
       "      <td>2009/07/05 11:09</td>\n",
       "      <td>2018/07/08 03:30</td>\n",
       "    </tr>\n",
       "    <tr>\n",
       "      <th>2</th>\n",
       "      <td>C</td>\n",
       "      <td>F</td>\n",
       "      <td>46</td>\n",
       "      <td>158.8</td>\n",
       "      <td>NaN</td>\n",
       "      <td>2130</td>\n",
       "      <td>2008/05/07 21:10</td>\n",
       "      <td>2017/06/04 13:07</td>\n",
       "    </tr>\n",
       "    <tr>\n",
       "      <th>3</th>\n",
       "      <td>D</td>\n",
       "      <td>M</td>\n",
       "      <td>55</td>\n",
       "      <td>162.3</td>\n",
       "      <td>62.8</td>\n",
       "      <td>670</td>\n",
       "      <td>1999/08/12 03:05</td>\n",
       "      <td>2017/08/12 16:07</td>\n",
       "    </tr>\n",
       "    <tr>\n",
       "      <th>4</th>\n",
       "      <td>E</td>\n",
       "      <td>F</td>\n",
       "      <td>43</td>\n",
       "      <td>162.7</td>\n",
       "      <td>65.8</td>\n",
       "      <td>400</td>\n",
       "      <td>1997/07/12 01:59</td>\n",
       "      <td>2017/07/10 22:48</td>\n",
       "    </tr>\n",
       "    <tr>\n",
       "      <th>5</th>\n",
       "      <td>F</td>\n",
       "      <td>F</td>\n",
       "      <td>40</td>\n",
       "      <td>160.1</td>\n",
       "      <td>45.6</td>\n",
       "      <td>900</td>\n",
       "      <td>2013/07/03 22:32</td>\n",
       "      <td>2018/12/04 14:37</td>\n",
       "    </tr>\n",
       "    <tr>\n",
       "      <th>6</th>\n",
       "      <td>G</td>\n",
       "      <td>M</td>\n",
       "      <td>49</td>\n",
       "      <td>166.5</td>\n",
       "      <td>72.9</td>\n",
       "      <td>32500</td>\n",
       "      <td>2001/07/30 01:35</td>\n",
       "      <td>2016/02/05 06:32</td>\n",
       "    </tr>\n",
       "    <tr>\n",
       "      <th>7</th>\n",
       "      <td>H</td>\n",
       "      <td>F</td>\n",
       "      <td>49</td>\n",
       "      <td>151.7</td>\n",
       "      <td>42.0</td>\n",
       "      <td>1200</td>\n",
       "      <td>2001/12/07 08:55</td>\n",
       "      <td>2017/12/02 15:15</td>\n",
       "    </tr>\n",
       "    <tr>\n",
       "      <th>8</th>\n",
       "      <td>I</td>\n",
       "      <td>M</td>\n",
       "      <td>28</td>\n",
       "      <td>166.0</td>\n",
       "      <td>66.2</td>\n",
       "      <td>720</td>\n",
       "      <td>1994/06/14 23:43</td>\n",
       "      <td>2016/05/13 17:59</td>\n",
       "    </tr>\n",
       "    <tr>\n",
       "      <th>9</th>\n",
       "      <td>J</td>\n",
       "      <td>F</td>\n",
       "      <td>36</td>\n",
       "      <td>153.4</td>\n",
       "      <td>NaN</td>\n",
       "      <td>330</td>\n",
       "      <td>1997/03/16 21:04</td>\n",
       "      <td>2018/11/26 05:32</td>\n",
       "    </tr>\n",
       "  </tbody>\n",
       "</table>\n",
       "</div>"
      ],
      "text/plain": [
       "  Name Sex  Age  Height  Weight  Income          Register             Login\n",
       "0    A   M   57   153.1    45.7     350  2011/06/11 19:52  2016/06/07 19:33\n",
       "1    B   M   28   158.1    46.1     570  2009/07/05 11:09  2018/07/08 03:30\n",
       "2    C   F   46   158.8     NaN    2130  2008/05/07 21:10  2017/06/04 13:07\n",
       "3    D   M   55   162.3    62.8     670  1999/08/12 03:05  2017/08/12 16:07\n",
       "4    E   F   43   162.7    65.8     400  1997/07/12 01:59  2017/07/10 22:48\n",
       "5    F   F   40   160.1    45.6     900  2013/07/03 22:32  2018/12/04 14:37\n",
       "6    G   M   49   166.5    72.9   32500  2001/07/30 01:35  2016/02/05 06:32\n",
       "7    H   F   49   151.7    42.0    1200  2001/12/07 08:55  2017/12/02 15:15\n",
       "8    I   M   28   166.0    66.2     720  1994/06/14 23:43  2016/05/13 17:59\n",
       "9    J   F   36   153.4     NaN     330  1997/03/16 21:04  2018/11/26 05:32"
      ]
     },
     "execution_count": 34,
     "metadata": {},
     "output_type": "execute_result"
    }
   ],
   "source": [
    "df[(abs(df['Income'] - np.mean(df['Income'])) / np.std(df['Income']) <= 3)]"
   ]
  },
  {
   "cell_type": "markdown",
   "metadata": {},
   "source": [
    "DataFrameのreload"
   ]
  },
  {
   "cell_type": "code",
   "execution_count": 35,
   "metadata": {},
   "outputs": [],
   "source": [
    "df = pd.read_csv('data.csv')"
   ]
  },
  {
   "cell_type": "markdown",
   "metadata": {},
   "source": [
    "PCAによる次元圧縮"
   ]
  },
  {
   "cell_type": "code",
   "execution_count": 36,
   "metadata": {},
   "outputs": [
    {
     "data": {
      "text/plain": [
       "array([[-14.62922619],\n",
       "       [ 14.78565977],\n",
       "       [ -2.93727202],\n",
       "       [-11.35599799],\n",
       "       [  0.58110191],\n",
       "       [  3.18588552],\n",
       "       [ -4.8252386 ],\n",
       "       [ -6.90541351],\n",
       "       [ 15.8960234 ],\n",
       "       [  6.20447771]])"
      ]
     },
     "execution_count": 36,
     "metadata": {},
     "output_type": "execute_result"
    }
   ],
   "source": [
    "from sklearn.decomposition import PCA\n",
    "pca = PCA(n_components=1)\n",
    "#オブジェクト生成,\n",
    "#n_components:主成分分析で変換後の次元数\n",
    "pca_values = pca.fit_transform(df[['Age', 'Height']])\n",
    "#'Age'と'Height'を1次元に圧縮\n",
    "pca_values"
   ]
  },
  {
   "cell_type": "markdown",
   "metadata": {},
   "source": [
    "### データ分割（K分割交差検証）"
   ]
  },
  {
   "cell_type": "code",
   "execution_count": 37,
   "metadata": {},
   "outputs": [
    {
     "data": {
      "text/html": [
       "<div>\n",
       "<style scoped>\n",
       "    .dataframe tbody tr th:only-of-type {\n",
       "        vertical-align: middle;\n",
       "    }\n",
       "\n",
       "    .dataframe tbody tr th {\n",
       "        vertical-align: top;\n",
       "    }\n",
       "\n",
       "    .dataframe thead th {\n",
       "        text-align: right;\n",
       "    }\n",
       "</style>\n",
       "<table border=\"1\" class=\"dataframe\">\n",
       "  <thead>\n",
       "    <tr style=\"text-align: right;\">\n",
       "      <th></th>\n",
       "      <th>Name</th>\n",
       "      <th>Sex</th>\n",
       "      <th>Age</th>\n",
       "      <th>Height</th>\n",
       "      <th>Weight</th>\n",
       "      <th>Income</th>\n",
       "      <th>Register</th>\n",
       "      <th>Login</th>\n",
       "    </tr>\n",
       "  </thead>\n",
       "  <tbody>\n",
       "    <tr>\n",
       "      <th>0</th>\n",
       "      <td>A</td>\n",
       "      <td>M</td>\n",
       "      <td>57</td>\n",
       "      <td>153.1</td>\n",
       "      <td>45.7</td>\n",
       "      <td>350</td>\n",
       "      <td>2011/06/11 19:52</td>\n",
       "      <td>2016/06/07 19:33</td>\n",
       "    </tr>\n",
       "    <tr>\n",
       "      <th>1</th>\n",
       "      <td>B</td>\n",
       "      <td>M</td>\n",
       "      <td>28</td>\n",
       "      <td>158.1</td>\n",
       "      <td>46.1</td>\n",
       "      <td>570</td>\n",
       "      <td>2009/07/05 11:09</td>\n",
       "      <td>2018/07/08 03:30</td>\n",
       "    </tr>\n",
       "    <tr>\n",
       "      <th>2</th>\n",
       "      <td>C</td>\n",
       "      <td>F</td>\n",
       "      <td>46</td>\n",
       "      <td>158.8</td>\n",
       "      <td>NaN</td>\n",
       "      <td>2130</td>\n",
       "      <td>2008/05/07 21:10</td>\n",
       "      <td>2017/06/04 13:07</td>\n",
       "    </tr>\n",
       "    <tr>\n",
       "      <th>3</th>\n",
       "      <td>D</td>\n",
       "      <td>M</td>\n",
       "      <td>55</td>\n",
       "      <td>162.3</td>\n",
       "      <td>62.8</td>\n",
       "      <td>670</td>\n",
       "      <td>1999/08/12 03:05</td>\n",
       "      <td>2017/08/12 16:07</td>\n",
       "    </tr>\n",
       "    <tr>\n",
       "      <th>4</th>\n",
       "      <td>E</td>\n",
       "      <td>F</td>\n",
       "      <td>43</td>\n",
       "      <td>162.7</td>\n",
       "      <td>65.8</td>\n",
       "      <td>400</td>\n",
       "      <td>1997/07/12 01:59</td>\n",
       "      <td>2017/07/10 22:48</td>\n",
       "    </tr>\n",
       "    <tr>\n",
       "      <th>5</th>\n",
       "      <td>F</td>\n",
       "      <td>F</td>\n",
       "      <td>40</td>\n",
       "      <td>160.1</td>\n",
       "      <td>45.6</td>\n",
       "      <td>900</td>\n",
       "      <td>2013/07/03 22:32</td>\n",
       "      <td>2018/12/04 14:37</td>\n",
       "    </tr>\n",
       "    <tr>\n",
       "      <th>6</th>\n",
       "      <td>G</td>\n",
       "      <td>M</td>\n",
       "      <td>49</td>\n",
       "      <td>166.5</td>\n",
       "      <td>72.9</td>\n",
       "      <td>32500</td>\n",
       "      <td>2001/07/30 01:35</td>\n",
       "      <td>2016/02/05 06:32</td>\n",
       "    </tr>\n",
       "    <tr>\n",
       "      <th>7</th>\n",
       "      <td>H</td>\n",
       "      <td>F</td>\n",
       "      <td>49</td>\n",
       "      <td>151.7</td>\n",
       "      <td>42.0</td>\n",
       "      <td>1200</td>\n",
       "      <td>2001/12/07 08:55</td>\n",
       "      <td>2017/12/02 15:15</td>\n",
       "    </tr>\n",
       "    <tr>\n",
       "      <th>8</th>\n",
       "      <td>I</td>\n",
       "      <td>M</td>\n",
       "      <td>28</td>\n",
       "      <td>166.0</td>\n",
       "      <td>66.2</td>\n",
       "      <td>720</td>\n",
       "      <td>1994/06/14 23:43</td>\n",
       "      <td>2016/05/13 17:59</td>\n",
       "    </tr>\n",
       "    <tr>\n",
       "      <th>9</th>\n",
       "      <td>J</td>\n",
       "      <td>F</td>\n",
       "      <td>36</td>\n",
       "      <td>153.4</td>\n",
       "      <td>NaN</td>\n",
       "      <td>330</td>\n",
       "      <td>1997/03/16 21:04</td>\n",
       "      <td>2018/11/26 05:32</td>\n",
       "    </tr>\n",
       "  </tbody>\n",
       "</table>\n",
       "</div>"
      ],
      "text/plain": [
       "  Name Sex  Age  Height  Weight  Income          Register             Login\n",
       "0    A   M   57   153.1    45.7     350  2011/06/11 19:52  2016/06/07 19:33\n",
       "1    B   M   28   158.1    46.1     570  2009/07/05 11:09  2018/07/08 03:30\n",
       "2    C   F   46   158.8     NaN    2130  2008/05/07 21:10  2017/06/04 13:07\n",
       "3    D   M   55   162.3    62.8     670  1999/08/12 03:05  2017/08/12 16:07\n",
       "4    E   F   43   162.7    65.8     400  1997/07/12 01:59  2017/07/10 22:48\n",
       "5    F   F   40   160.1    45.6     900  2013/07/03 22:32  2018/12/04 14:37\n",
       "6    G   M   49   166.5    72.9   32500  2001/07/30 01:35  2016/02/05 06:32\n",
       "7    H   F   49   151.7    42.0    1200  2001/12/07 08:55  2017/12/02 15:15\n",
       "8    I   M   28   166.0    66.2     720  1994/06/14 23:43  2016/05/13 17:59\n",
       "9    J   F   36   153.4     NaN     330  1997/03/16 21:04  2018/11/26 05:32"
      ]
     },
     "execution_count": 37,
     "metadata": {},
     "output_type": "execute_result"
    }
   ],
   "source": [
    "df = pd.read_csv('data.csv')\n",
    "df"
   ]
  },
  {
   "cell_type": "markdown",
   "metadata": {},
   "source": [
    "元データを交差検証用とホールドアウト検証用に分割する  \n",
    "test_sizeは、ホールドアウト検証用の分割比であり、  \n",
    "test_size=0.2で元データの20%を割り当てることを意味する"
   ]
  },
  {
   "cell_type": "code",
   "execution_count": 38,
   "metadata": {},
   "outputs": [],
   "source": [
    "from sklearn.model_selection import train_test_split\n",
    "train_data, test_data, train_target, test_target\\\n",
    "    = train_test_split(df.drop('Income', axis=1), df['Income'], test_size=0.2)"
   ]
  },
  {
   "cell_type": "markdown",
   "metadata": {},
   "source": [
    "分割したデータのインデックスをリセットする"
   ]
  },
  {
   "cell_type": "code",
   "execution_count": 39,
   "metadata": {},
   "outputs": [],
   "source": [
    "train_data.reset_index(inplace=True, drop=True)\n",
    "test_data.reset_index(inplace=True, drop=True)\n",
    "train_target.reset_index(inplace=True, drop=True)\n",
    "test_target.reset_index(inplace=True, drop=True)"
   ]
  },
  {
   "cell_type": "markdown",
   "metadata": {},
   "source": [
    "交差検証データの行番号リストを作成"
   ]
  },
  {
   "cell_type": "code",
   "execution_count": 40,
   "metadata": {},
   "outputs": [
    {
     "data": {
      "text/plain": [
       "[0, 1, 2, 3, 4, 5, 6, 7]"
      ]
     },
     "execution_count": 40,
     "metadata": {},
     "output_type": "execute_result"
    }
   ],
   "source": [
    "row_no_list = list(range(len(train_target)))\n",
    "row_no_list"
   ]
  },
  {
   "cell_type": "markdown",
   "metadata": {},
   "source": [
    "K分割交差検証用のデータ分割の設定  \n",
    "n_splitsで分割数を指定する  \n",
    "shuffle=True指定でランダム分割\n",
    "\n",
    "交差検証用のデータ分割をk回行う"
   ]
  },
  {
   "cell_type": "code",
   "execution_count": 41,
   "metadata": {},
   "outputs": [],
   "source": [
    "from sklearn.model_selection import KFold\n",
    "k_fold = KFold(n_splits=4, shuffle=True)\n",
    "for train_cv_no, test_cv_no in k_fold.split(row_no_list):\n",
    "    train_cv = train_data.iloc[train_cv_no, :]\n",
    "    test_cv = train_data.iloc[test_cv_no, :]"
   ]
  },
  {
   "cell_type": "code",
   "execution_count": 42,
   "metadata": {},
   "outputs": [
    {
     "data": {
      "text/html": [
       "<div>\n",
       "<style scoped>\n",
       "    .dataframe tbody tr th:only-of-type {\n",
       "        vertical-align: middle;\n",
       "    }\n",
       "\n",
       "    .dataframe tbody tr th {\n",
       "        vertical-align: top;\n",
       "    }\n",
       "\n",
       "    .dataframe thead th {\n",
       "        text-align: right;\n",
       "    }\n",
       "</style>\n",
       "<table border=\"1\" class=\"dataframe\">\n",
       "  <thead>\n",
       "    <tr style=\"text-align: right;\">\n",
       "      <th></th>\n",
       "      <th>Name</th>\n",
       "      <th>Sex</th>\n",
       "      <th>Age</th>\n",
       "      <th>Height</th>\n",
       "      <th>Weight</th>\n",
       "      <th>Register</th>\n",
       "      <th>Login</th>\n",
       "    </tr>\n",
       "  </thead>\n",
       "  <tbody>\n",
       "    <tr>\n",
       "      <th>0</th>\n",
       "      <td>J</td>\n",
       "      <td>F</td>\n",
       "      <td>36</td>\n",
       "      <td>153.4</td>\n",
       "      <td>NaN</td>\n",
       "      <td>1997/03/16 21:04</td>\n",
       "      <td>2018/11/26 05:32</td>\n",
       "    </tr>\n",
       "    <tr>\n",
       "      <th>2</th>\n",
       "      <td>B</td>\n",
       "      <td>M</td>\n",
       "      <td>28</td>\n",
       "      <td>158.1</td>\n",
       "      <td>46.1</td>\n",
       "      <td>2009/07/05 11:09</td>\n",
       "      <td>2018/07/08 03:30</td>\n",
       "    </tr>\n",
       "    <tr>\n",
       "      <th>4</th>\n",
       "      <td>A</td>\n",
       "      <td>M</td>\n",
       "      <td>57</td>\n",
       "      <td>153.1</td>\n",
       "      <td>45.7</td>\n",
       "      <td>2011/06/11 19:52</td>\n",
       "      <td>2016/06/07 19:33</td>\n",
       "    </tr>\n",
       "    <tr>\n",
       "      <th>5</th>\n",
       "      <td>H</td>\n",
       "      <td>F</td>\n",
       "      <td>49</td>\n",
       "      <td>151.7</td>\n",
       "      <td>42.0</td>\n",
       "      <td>2001/12/07 08:55</td>\n",
       "      <td>2017/12/02 15:15</td>\n",
       "    </tr>\n",
       "    <tr>\n",
       "      <th>6</th>\n",
       "      <td>E</td>\n",
       "      <td>F</td>\n",
       "      <td>43</td>\n",
       "      <td>162.7</td>\n",
       "      <td>65.8</td>\n",
       "      <td>1997/07/12 01:59</td>\n",
       "      <td>2017/07/10 22:48</td>\n",
       "    </tr>\n",
       "    <tr>\n",
       "      <th>7</th>\n",
       "      <td>D</td>\n",
       "      <td>M</td>\n",
       "      <td>55</td>\n",
       "      <td>162.3</td>\n",
       "      <td>62.8</td>\n",
       "      <td>1999/08/12 03:05</td>\n",
       "      <td>2017/08/12 16:07</td>\n",
       "    </tr>\n",
       "  </tbody>\n",
       "</table>\n",
       "</div>"
      ],
      "text/plain": [
       "  Name Sex  Age  Height  Weight          Register             Login\n",
       "0    J   F   36   153.4     NaN  1997/03/16 21:04  2018/11/26 05:32\n",
       "2    B   M   28   158.1    46.1  2009/07/05 11:09  2018/07/08 03:30\n",
       "4    A   M   57   153.1    45.7  2011/06/11 19:52  2016/06/07 19:33\n",
       "5    H   F   49   151.7    42.0  2001/12/07 08:55  2017/12/02 15:15\n",
       "6    E   F   43   162.7    65.8  1997/07/12 01:59  2017/07/10 22:48\n",
       "7    D   M   55   162.3    62.8  1999/08/12 03:05  2017/08/12 16:07"
      ]
     },
     "execution_count": 42,
     "metadata": {},
     "output_type": "execute_result"
    }
   ],
   "source": [
    "train_cv"
   ]
  },
  {
   "cell_type": "code",
   "execution_count": 43,
   "metadata": {},
   "outputs": [
    {
     "data": {
      "text/html": [
       "<div>\n",
       "<style scoped>\n",
       "    .dataframe tbody tr th:only-of-type {\n",
       "        vertical-align: middle;\n",
       "    }\n",
       "\n",
       "    .dataframe tbody tr th {\n",
       "        vertical-align: top;\n",
       "    }\n",
       "\n",
       "    .dataframe thead th {\n",
       "        text-align: right;\n",
       "    }\n",
       "</style>\n",
       "<table border=\"1\" class=\"dataframe\">\n",
       "  <thead>\n",
       "    <tr style=\"text-align: right;\">\n",
       "      <th></th>\n",
       "      <th>Name</th>\n",
       "      <th>Sex</th>\n",
       "      <th>Age</th>\n",
       "      <th>Height</th>\n",
       "      <th>Weight</th>\n",
       "      <th>Register</th>\n",
       "      <th>Login</th>\n",
       "    </tr>\n",
       "  </thead>\n",
       "  <tbody>\n",
       "    <tr>\n",
       "      <th>1</th>\n",
       "      <td>G</td>\n",
       "      <td>M</td>\n",
       "      <td>49</td>\n",
       "      <td>166.5</td>\n",
       "      <td>72.9</td>\n",
       "      <td>2001/07/30 01:35</td>\n",
       "      <td>2016/02/05 06:32</td>\n",
       "    </tr>\n",
       "    <tr>\n",
       "      <th>3</th>\n",
       "      <td>I</td>\n",
       "      <td>M</td>\n",
       "      <td>28</td>\n",
       "      <td>166.0</td>\n",
       "      <td>66.2</td>\n",
       "      <td>1994/06/14 23:43</td>\n",
       "      <td>2016/05/13 17:59</td>\n",
       "    </tr>\n",
       "  </tbody>\n",
       "</table>\n",
       "</div>"
      ],
      "text/plain": [
       "  Name Sex  Age  Height  Weight          Register             Login\n",
       "1    G   M   49   166.5    72.9  2001/07/30 01:35  2016/02/05 06:32\n",
       "3    I   M   28   166.0    66.2  1994/06/14 23:43  2016/05/13 17:59"
      ]
     },
     "execution_count": 43,
     "metadata": {},
     "output_type": "execute_result"
    }
   ],
   "source": [
    "test_cv"
   ]
  }
 ],
 "metadata": {
  "kernelspec": {
   "display_name": "Python 3",
   "language": "python",
   "name": "python3"
  },
  "language_info": {
   "codemirror_mode": {
    "name": "ipython",
    "version": 3
   },
   "file_extension": ".py",
   "mimetype": "text/x-python",
   "name": "python",
   "nbconvert_exporter": "python",
   "pygments_lexer": "ipython3",
   "version": "3.6.5"
  }
 },
 "nbformat": 4,
 "nbformat_minor": 2
}
